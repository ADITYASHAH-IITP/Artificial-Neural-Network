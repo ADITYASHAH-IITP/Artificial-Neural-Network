{
  "nbformat": 4,
  "nbformat_minor": 0,
  "metadata": {
    "colab": {
      "name": "Artificial Neural Network_Regression",
      "provenance": [],
      "collapsed_sections": [],
      "include_colab_link": true
    },
    "kernelspec": {
      "name": "python3",
      "display_name": "Python 3"
    }
  },
  "cells": [
    {
      "cell_type": "markdown",
      "metadata": {
        "id": "view-in-github",
        "colab_type": "text"
      },
      "source": [
        "<a href=\"https://colab.research.google.com/github/ADITYASHAH-IITP/Artificial-Neural-Network/blob/main/Artificial_Neural_Network_Regression.ipynb\" target=\"_parent\"><img src=\"https://colab.research.google.com/assets/colab-badge.svg\" alt=\"Open In Colab\"/></a>"
      ]
    },
    {
      "cell_type": "markdown",
      "metadata": {
        "id": "3cbb7fRy-eyr"
      },
      "source": [
        "# Artificial Neural Network"
      ]
    },
    {
      "cell_type": "markdown",
      "metadata": {
        "id": "8sNDnxE2-pwE"
      },
      "source": [
        "### Importing the libraries"
      ]
    },
    {
      "cell_type": "code",
      "metadata": {
        "id": "lxChR1Rk-umf"
      },
      "source": [
        "import numpy as np\n",
        "import pandas as pd\n",
        "import tensorflow as tf"
      ],
      "execution_count": 1,
      "outputs": []
    },
    {
      "cell_type": "code",
      "metadata": {
        "id": "uBTqR3nacj0e",
        "colab": {
          "base_uri": "https://localhost:8080/",
          "height": 35
        },
        "outputId": "5802f990-b46d-411e-9603-4b1aa230f4b0"
      },
      "source": [
        "tf.__version__"
      ],
      "execution_count": 2,
      "outputs": [
        {
          "output_type": "execute_result",
          "data": {
            "application/vnd.google.colaboratory.intrinsic+json": {
              "type": "string"
            },
            "text/plain": [
              "'2.5.0'"
            ]
          },
          "metadata": {
            "tags": []
          },
          "execution_count": 2
        }
      ]
    },
    {
      "cell_type": "markdown",
      "metadata": {
        "id": "AG3FQEch-yuA"
      },
      "source": [
        "## Part 1 - Data Preprocessing"
      ]
    },
    {
      "cell_type": "markdown",
      "metadata": {
        "id": "-4zq8Mza_D9O"
      },
      "source": [
        "### Importing the dataset"
      ]
    },
    {
      "cell_type": "code",
      "metadata": {
        "id": "B9CV13Co_HHM"
      },
      "source": [
        "dataset = pd.read_excel('Dataset.xlsx')\n",
        "X = dataset.iloc[:, :-1].values\n",
        "y = dataset.iloc[:, -1].values"
      ],
      "execution_count": 7,
      "outputs": []
    },
    {
      "cell_type": "markdown",
      "metadata": {
        "id": "VC6omXel_Up0"
      },
      "source": [
        "### Splitting the dataset into the Training set and Test set"
      ]
    },
    {
      "cell_type": "code",
      "metadata": {
        "id": "L5edeb2r_agx"
      },
      "source": [
        "from sklearn.model_selection import train_test_split\n",
        "X_train, X_test, y_train, y_test = train_test_split(X, y, test_size = 0.2, random_state = 0)"
      ],
      "execution_count": 8,
      "outputs": []
    },
    {
      "cell_type": "markdown",
      "metadata": {
        "id": "_mSLlAT9_eyI"
      },
      "source": [
        "## Part 2 - Building the ANN"
      ]
    },
    {
      "cell_type": "markdown",
      "metadata": {
        "id": "CsBULd_f_wLY"
      },
      "source": [
        "### Initializing the ANN"
      ]
    },
    {
      "cell_type": "code",
      "metadata": {
        "id": "J6Hd97Ls__Nz"
      },
      "source": [
        "ann = tf.keras.models.Sequential()"
      ],
      "execution_count": 9,
      "outputs": []
    },
    {
      "cell_type": "markdown",
      "metadata": {
        "id": "iitAFJS_ABUn"
      },
      "source": [
        "### Adding the input layer and the first hidden layer"
      ]
    },
    {
      "cell_type": "code",
      "metadata": {
        "id": "ksO_Vv40AHix"
      },
      "source": [
        "ann.add(tf.keras.layers.Dense(units=6, activation='relu'))"
      ],
      "execution_count": 10,
      "outputs": []
    },
    {
      "cell_type": "markdown",
      "metadata": {
        "id": "-lb4kK_wAKbs"
      },
      "source": [
        "### Adding the second hidden layer"
      ]
    },
    {
      "cell_type": "code",
      "metadata": {
        "id": "c2357OqEAQOQ"
      },
      "source": [
        "ann.add(tf.keras.layers.Dense(units=6, activation='relu'))"
      ],
      "execution_count": 11,
      "outputs": []
    },
    {
      "cell_type": "markdown",
      "metadata": {
        "id": "jwMOmKb3AdBY"
      },
      "source": [
        "### Adding the output layer"
      ]
    },
    {
      "cell_type": "code",
      "metadata": {
        "id": "YFATpzsUAkLL"
      },
      "source": [
        "ann.add(tf.keras.layers.Dense(units=1))"
      ],
      "execution_count": 12,
      "outputs": []
    },
    {
      "cell_type": "markdown",
      "metadata": {
        "id": "fq7e4fF6A1yy"
      },
      "source": [
        "## Part 3 - Training the ANN"
      ]
    },
    {
      "cell_type": "markdown",
      "metadata": {
        "id": "qDeylAs2An25"
      },
      "source": [
        "### Compiling the ANN"
      ]
    },
    {
      "cell_type": "code",
      "metadata": {
        "id": "pesgbWlCAtB4"
      },
      "source": [
        "ann.compile(optimizer = 'adam', loss = 'mean_squared_error')"
      ],
      "execution_count": 13,
      "outputs": []
    },
    {
      "cell_type": "markdown",
      "metadata": {
        "id": "YjVuiybYOo7r"
      },
      "source": [
        "### Training the ANN model on the Training set"
      ]
    },
    {
      "cell_type": "code",
      "metadata": {
        "id": "c_vV-tiiA5zn",
        "colab": {
          "base_uri": "https://localhost:8080/"
        },
        "outputId": "1a65f8c0-9fe0-4400-f0fe-ea82de8113b7"
      },
      "source": [
        "ann.fit(X_train, y_train, batch_size = 32, epochs = 100)"
      ],
      "execution_count": 14,
      "outputs": [
        {
          "output_type": "stream",
          "text": [
            "Epoch 1/100\n",
            "240/240 [==============================] - 1s 1ms/step - loss: 49048.6367\n",
            "Epoch 2/100\n",
            "240/240 [==============================] - 0s 1ms/step - loss: 377.1335\n",
            "Epoch 3/100\n",
            "240/240 [==============================] - 0s 1ms/step - loss: 234.8306\n",
            "Epoch 4/100\n",
            "240/240 [==============================] - 0s 1ms/step - loss: 120.5562\n",
            "Epoch 5/100\n",
            "240/240 [==============================] - 0s 1ms/step - loss: 58.3584\n",
            "Epoch 6/100\n",
            "240/240 [==============================] - 0s 1ms/step - loss: 37.1592\n",
            "Epoch 7/100\n",
            "240/240 [==============================] - 0s 1ms/step - loss: 31.5223\n",
            "Epoch 8/100\n",
            "240/240 [==============================] - 0s 1ms/step - loss: 28.8481\n",
            "Epoch 9/100\n",
            "240/240 [==============================] - 0s 1ms/step - loss: 27.0539\n",
            "Epoch 10/100\n",
            "240/240 [==============================] - 0s 1ms/step - loss: 26.2371\n",
            "Epoch 11/100\n",
            "240/240 [==============================] - 0s 1ms/step - loss: 25.5979\n",
            "Epoch 12/100\n",
            "240/240 [==============================] - 0s 1ms/step - loss: 25.0681\n",
            "Epoch 13/100\n",
            "240/240 [==============================] - 0s 1ms/step - loss: 24.8645\n",
            "Epoch 14/100\n",
            "240/240 [==============================] - 0s 1ms/step - loss: 25.1179\n",
            "Epoch 15/100\n",
            "240/240 [==============================] - 0s 1ms/step - loss: 25.0130\n",
            "Epoch 16/100\n",
            "240/240 [==============================] - 0s 1ms/step - loss: 25.1007\n",
            "Epoch 17/100\n",
            "240/240 [==============================] - 0s 1ms/step - loss: 24.5771\n",
            "Epoch 18/100\n",
            "240/240 [==============================] - 0s 1ms/step - loss: 24.7619\n",
            "Epoch 19/100\n",
            "240/240 [==============================] - 0s 1ms/step - loss: 24.9672\n",
            "Epoch 20/100\n",
            "240/240 [==============================] - 0s 1ms/step - loss: 25.0163\n",
            "Epoch 21/100\n",
            "240/240 [==============================] - 0s 1ms/step - loss: 24.7989\n",
            "Epoch 22/100\n",
            "240/240 [==============================] - 0s 1ms/step - loss: 24.9028\n",
            "Epoch 23/100\n",
            "240/240 [==============================] - 0s 1ms/step - loss: 24.6725\n",
            "Epoch 24/100\n",
            "240/240 [==============================] - 0s 1ms/step - loss: 24.4178\n",
            "Epoch 25/100\n",
            "240/240 [==============================] - 0s 1ms/step - loss: 24.8862\n",
            "Epoch 26/100\n",
            "240/240 [==============================] - 0s 1ms/step - loss: 24.9313\n",
            "Epoch 27/100\n",
            "240/240 [==============================] - 0s 1ms/step - loss: 24.9256\n",
            "Epoch 28/100\n",
            "240/240 [==============================] - 0s 1ms/step - loss: 25.1605\n",
            "Epoch 29/100\n",
            "240/240 [==============================] - 0s 1ms/step - loss: 24.8019\n",
            "Epoch 30/100\n",
            "240/240 [==============================] - 0s 1ms/step - loss: 25.0605\n",
            "Epoch 31/100\n",
            "240/240 [==============================] - 0s 1ms/step - loss: 24.7723\n",
            "Epoch 32/100\n",
            "240/240 [==============================] - 0s 1ms/step - loss: 24.8106\n",
            "Epoch 33/100\n",
            "240/240 [==============================] - 0s 1ms/step - loss: 25.1526\n",
            "Epoch 34/100\n",
            "240/240 [==============================] - 0s 1ms/step - loss: 25.3713\n",
            "Epoch 35/100\n",
            "240/240 [==============================] - 0s 1ms/step - loss: 25.2517\n",
            "Epoch 36/100\n",
            "240/240 [==============================] - 0s 1ms/step - loss: 25.2299\n",
            "Epoch 37/100\n",
            "240/240 [==============================] - 0s 1ms/step - loss: 26.6319\n",
            "Epoch 38/100\n",
            "240/240 [==============================] - 0s 1ms/step - loss: 25.4643\n",
            "Epoch 39/100\n",
            "240/240 [==============================] - 0s 1ms/step - loss: 26.0884\n",
            "Epoch 40/100\n",
            "240/240 [==============================] - 0s 1ms/step - loss: 24.1889\n",
            "Epoch 41/100\n",
            "240/240 [==============================] - 0s 1ms/step - loss: 25.8108\n",
            "Epoch 42/100\n",
            "240/240 [==============================] - 0s 1ms/step - loss: 25.0372\n",
            "Epoch 43/100\n",
            "240/240 [==============================] - 0s 1ms/step - loss: 25.5434\n",
            "Epoch 44/100\n",
            "240/240 [==============================] - 0s 1ms/step - loss: 25.2705\n",
            "Epoch 45/100\n",
            "240/240 [==============================] - 0s 1ms/step - loss: 24.7195\n",
            "Epoch 46/100\n",
            "240/240 [==============================] - 0s 1ms/step - loss: 26.3292\n",
            "Epoch 47/100\n",
            "240/240 [==============================] - 0s 1ms/step - loss: 25.2232\n",
            "Epoch 48/100\n",
            "240/240 [==============================] - 0s 1ms/step - loss: 26.3156\n",
            "Epoch 49/100\n",
            "240/240 [==============================] - 0s 1ms/step - loss: 25.6778\n",
            "Epoch 50/100\n",
            "240/240 [==============================] - 0s 1ms/step - loss: 24.8994\n",
            "Epoch 51/100\n",
            "240/240 [==============================] - 0s 1ms/step - loss: 25.2514\n",
            "Epoch 52/100\n",
            "240/240 [==============================] - 0s 1ms/step - loss: 25.0602\n",
            "Epoch 53/100\n",
            "240/240 [==============================] - 0s 1ms/step - loss: 25.0205\n",
            "Epoch 54/100\n",
            "240/240 [==============================] - 0s 1ms/step - loss: 26.1940\n",
            "Epoch 55/100\n",
            "240/240 [==============================] - 0s 1ms/step - loss: 25.0690\n",
            "Epoch 56/100\n",
            "240/240 [==============================] - 0s 1ms/step - loss: 25.2216\n",
            "Epoch 57/100\n",
            "240/240 [==============================] - 0s 1ms/step - loss: 24.8449\n",
            "Epoch 58/100\n",
            "240/240 [==============================] - 0s 1ms/step - loss: 24.9957\n",
            "Epoch 59/100\n",
            "240/240 [==============================] - 0s 1ms/step - loss: 25.0734\n",
            "Epoch 60/100\n",
            "240/240 [==============================] - 0s 1ms/step - loss: 25.7098\n",
            "Epoch 61/100\n",
            "240/240 [==============================] - 0s 1ms/step - loss: 25.1645\n",
            "Epoch 62/100\n",
            "240/240 [==============================] - 0s 1ms/step - loss: 25.3426\n",
            "Epoch 63/100\n",
            "240/240 [==============================] - 0s 1ms/step - loss: 26.0938\n",
            "Epoch 64/100\n",
            "240/240 [==============================] - 0s 1ms/step - loss: 25.4879\n",
            "Epoch 65/100\n",
            "240/240 [==============================] - 0s 1ms/step - loss: 24.5935\n",
            "Epoch 66/100\n",
            "240/240 [==============================] - 0s 1ms/step - loss: 24.7091\n",
            "Epoch 67/100\n",
            "240/240 [==============================] - 0s 1ms/step - loss: 25.3600\n",
            "Epoch 68/100\n",
            "240/240 [==============================] - 0s 1ms/step - loss: 25.3146\n",
            "Epoch 69/100\n",
            "240/240 [==============================] - 0s 1ms/step - loss: 24.8624\n",
            "Epoch 70/100\n",
            "240/240 [==============================] - 0s 1ms/step - loss: 25.6294\n",
            "Epoch 71/100\n",
            "240/240 [==============================] - 0s 1ms/step - loss: 24.5250\n",
            "Epoch 72/100\n",
            "240/240 [==============================] - 0s 1ms/step - loss: 25.3552\n",
            "Epoch 73/100\n",
            "240/240 [==============================] - 0s 1ms/step - loss: 25.8671\n",
            "Epoch 74/100\n",
            "240/240 [==============================] - 0s 1ms/step - loss: 24.7937\n",
            "Epoch 75/100\n",
            "240/240 [==============================] - 0s 1ms/step - loss: 25.5818\n",
            "Epoch 76/100\n",
            "240/240 [==============================] - 0s 1ms/step - loss: 25.0402\n",
            "Epoch 77/100\n",
            "240/240 [==============================] - 0s 1ms/step - loss: 24.7451\n",
            "Epoch 78/100\n",
            "240/240 [==============================] - 0s 1ms/step - loss: 25.1997\n",
            "Epoch 79/100\n",
            "240/240 [==============================] - 0s 1ms/step - loss: 24.6146\n",
            "Epoch 80/100\n",
            "240/240 [==============================] - 0s 1ms/step - loss: 24.5636\n",
            "Epoch 81/100\n",
            "240/240 [==============================] - 0s 1ms/step - loss: 24.9725\n",
            "Epoch 82/100\n",
            "240/240 [==============================] - 0s 1ms/step - loss: 24.7166\n",
            "Epoch 83/100\n",
            "240/240 [==============================] - 0s 1ms/step - loss: 24.8161\n",
            "Epoch 84/100\n",
            "240/240 [==============================] - 0s 1ms/step - loss: 24.9596\n",
            "Epoch 85/100\n",
            "240/240 [==============================] - 0s 1ms/step - loss: 25.3837\n",
            "Epoch 86/100\n",
            "240/240 [==============================] - 0s 1ms/step - loss: 25.9481\n",
            "Epoch 87/100\n",
            "240/240 [==============================] - 0s 1ms/step - loss: 24.8021\n",
            "Epoch 88/100\n",
            "240/240 [==============================] - 0s 1ms/step - loss: 25.6518\n",
            "Epoch 89/100\n",
            "240/240 [==============================] - 0s 1ms/step - loss: 24.8712\n",
            "Epoch 90/100\n",
            "240/240 [==============================] - 0s 1ms/step - loss: 25.0426\n",
            "Epoch 91/100\n",
            "240/240 [==============================] - 0s 1ms/step - loss: 24.8720\n",
            "Epoch 92/100\n",
            "240/240 [==============================] - 0s 1ms/step - loss: 24.4857\n",
            "Epoch 93/100\n",
            "240/240 [==============================] - 0s 1ms/step - loss: 25.7233\n",
            "Epoch 94/100\n",
            "240/240 [==============================] - 0s 1ms/step - loss: 26.2688\n",
            "Epoch 95/100\n",
            "240/240 [==============================] - 0s 1ms/step - loss: 24.5391\n",
            "Epoch 96/100\n",
            "240/240 [==============================] - 0s 1ms/step - loss: 24.4071\n",
            "Epoch 97/100\n",
            "240/240 [==============================] - 0s 1ms/step - loss: 25.1478\n",
            "Epoch 98/100\n",
            "240/240 [==============================] - 0s 1ms/step - loss: 24.8930\n",
            "Epoch 99/100\n",
            "240/240 [==============================] - 0s 1ms/step - loss: 25.6339\n",
            "Epoch 100/100\n",
            "240/240 [==============================] - 0s 1ms/step - loss: 25.2912\n"
          ],
          "name": "stdout"
        },
        {
          "output_type": "execute_result",
          "data": {
            "text/plain": [
              "<tensorflow.python.keras.callbacks.History at 0x7fbf47b85490>"
            ]
          },
          "metadata": {
            "tags": []
          },
          "execution_count": 14
        }
      ]
    },
    {
      "cell_type": "markdown",
      "metadata": {
        "id": "0H0zKKNEBLD5"
      },
      "source": [
        "### Predicting the results of the Test set"
      ]
    },
    {
      "cell_type": "code",
      "metadata": {
        "id": "IA0yApEmBG1X",
        "colab": {
          "base_uri": "https://localhost:8080/"
        },
        "outputId": "9780e0d9-4d26-421f-dbaf-2b8b14f517d0"
      },
      "source": [
        "y_pred = ann.predict(X_test)\n",
        "np.set_printoptions(precision=2)\n",
        "print(np.concatenate((y_pred.reshape(len(y_pred),1), y_test.reshape(len(y_test),1)),1))"
      ],
      "execution_count": 15,
      "outputs": [
        {
          "output_type": "stream",
          "text": [
            "[[436.33 431.23]\n",
            " [465.08 460.01]\n",
            " [469.36 461.14]\n",
            " ...\n",
            " [476.54 473.26]\n",
            " [441.16 438.  ]\n",
            " [461.91 463.28]]\n"
          ],
          "name": "stdout"
        }
      ]
    }
  ]
}